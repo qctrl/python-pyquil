{
 "cells": [
  {
   "cell_type": "markdown",
   "metadata": {},
   "source": [
    "# Export a dynamical decoupling sequence to pyQuil\n",
    "\n",
    "Q-CTRL Open Controls provides easy-to-use methods to construct dynamical decoupling sequences (DDS) according to well-known dynamical decoupling schemes. Here we show how a DDS from Q-CTRL Open Controls can be exported to a `Program` defined in pyQuil using Q-CTRL pyQuil Adapter.\n",
    "\n",
    "Note: \n",
    "* You need the [pyQuil package](http://docs.rigetti.com/en/stable/start.html) to create a quantum program. \n",
    "* You need the [ForestSDK](https://www.rigetti.com/forest) to simulate a quantum program. \n",
    "* You can the quantum program on a real quantum computer using [Rigetti QCS](https://qcs.rigetti.com/sign-in). "
   ]
  },
  {
   "cell_type": "markdown",
   "metadata": {},
   "source": [
    "## Imports"
   ]
  },
  {
   "cell_type": "code",
   "execution_count": 1,
   "metadata": {},
   "outputs": [],
   "source": [
    "# General\n",
    "\n",
    "import numpy as np\n",
    "import matplotlib.pyplot as plt\n",
    "from matplotlib.gridspec import GridSpec\n",
    "\n",
    "# Q-CTRL Open Controls\n",
    "from qctrlopencontrols import new_predefined_dds\n",
    "\n",
    "# Q-CTRL pyQuil Adapter\n",
    "from qctrlpyquil import convert_dds_to_pyquil_program\n",
    "\n",
    "# Q-CTRL Visualizer\n",
    "from qctrlvisualizer import plot_sequences\n",
    "\n",
    "# pyQuil\n",
    "from pyquil.api import get_qc"
   ]
  },
  {
   "cell_type": "markdown",
   "metadata": {},
   "source": [
    "## Running a DDS on a pyQuil Quantum Virtual Machine (QVM)\n",
    "\n",
    "This section demonstrates how a DDS can be prepared and a corresponding pyQuil program made and executed on a Quantum Virtual Simulator (QVM).\n",
    "\n",
    "Q-CTRL Open Controls defines a DDS as a set of instantaneous unitary operations performed at specific offset times, see the [technical documentation](https://docs.q-ctrl.com/open-controls/references/qctrl-open-controls/qctrlopencontrols/DynamicDecouplingSequence.html) for mathematical details.\n",
    "\n",
    "pyQuil implements quantum computation through `Program` that contains a series of [gates](http://docs.rigetti.com/en/stable/apidocs/gates.html). How these gates are physically implemented will depend on the device that it is run on. Rigetti's documentation gives an oversight on Rigetti's [native gates](http://docs.rigetti.com/en/stable/apidocs/gates.html#native-gates-for-rigetti-qpus) and other [physically realizable gates](http://docs.rigetti.com/en/stable/apidocs/gates.html#all-gates-and-instructions).\n",
    "\n",
    "If a user wants to add pauses (in time) during a computation they can use identity gates. However, executing a quantum program with identity gates cause the compiler to remove the gates before execution to increase efficiency. This can be avoided by using `Pragma PRESERVE` blocks (see [documentation](http://docs.rigetti.com/en/stable/basics.html#pragmas) for more detail and other usages of `Pragma`). All of $I$ (identity gate), $RX$ (X-rotation gates) and $RY$ (Y-rotation gates) take a fixed time (`gate_time`).\n",
    "\n",
    "Converting a DDS into a pyQuil program is an approximate process where the instantaneous unitaries are replaced with finite duration gates and the pauses in-between unitaries are replaced with the closest integer number of identity gates. The exact algorithm used to make this approximation is documented in the [source code](https://github.com/qctrl/python-pyquil).\n",
    "\n",
    "In this example we will define a Quadratic DDS and convert it into a program that we can later run on a simulator and on a real device. We also create a Ramsey DDS of the same duration to compare as a benchmark. For both the sequences, we add a $X_{\\pi/2}$ rotation on either end of the sequence."
   ]
  },
  {
   "cell_type": "markdown",
   "metadata": {},
   "source": [
    "### Preparing the sequences"
   ]
  },
  {
   "cell_type": "code",
   "execution_count": 2,
   "metadata": {},
   "outputs": [
    {
     "name": "stdout",
     "output_type": "stream",
     "text": [
      "Quadratic sequence:\n",
      "Duration = 5e-06\n",
      "Offsets = [0.0,0.06249999999999998,0.18749999999999994,0.24999999999999994,0.37499999999999994,0.6249999999999999,0.7499999999999999,0.8124999999999999,0.9375,1.0] x 5e-06\n",
      "Rabi Rotations = [0.5,0.0,0.0,1.0,0.0,0.0,1.0,0.0,0.0,0.5] x pi\n",
      "Azimuthal Angles = [0.0,0.0,0.0,0.0,0.0,0.0,0.0,0.0,0.0,1.0] x pi\n",
      "Detuning Rotations = [0.0,1.0,1.0,0.0,1.0,1.0,0.0,1.0,1.0,0.0] x pi\n",
      "Ramsey sequence:\n",
      "Duration = 5e-06\n",
      "Offsets = [0.0,1.0] x 5e-06\n",
      "Rabi Rotations = [0.5,0.5] x pi\n",
      "Azimuthal Angles = [0.0,1.0] x pi\n",
      "Detuning Rotations = [0.0,0.0] x pi\n"
     ]
    }
   ],
   "source": [
    "## Quadratic sequence, total duration: 20us\n",
    "quadratic_sequence = new_predefined_dds(\n",
    "    scheme=\"quadratic\",\n",
    "    duration=5e-6,\n",
    "    number_inner_offsets=2,\n",
    "    number_outer_offsets=2,\n",
    "    pre_post_rotation=True,\n",
    "    name=\"Quadratic sequence\",\n",
    ")\n",
    "print(quadratic_sequence)\n",
    "\n",
    "## Ramsey sequence, total duration: 20us\n",
    "ramsey_sequence = new_predefined_dds(\n",
    "    scheme=\"Ramsey\", duration=5e-6, pre_post_rotation=True, name=\"Ramsey sequence\"\n",
    ")\n",
    "print(ramsey_sequence)"
   ]
  },
  {
   "cell_type": "markdown",
   "metadata": {},
   "source": [
    "### Constructing the Program using Q-CTRL Open Controls\n",
    "\n",
    "To construct a `Program` from a DDS you need to provide: \n",
    "* `dynamic_decoupling_sequence` - a DDS.\n",
    "* `target_qubits` - the qubit indices on which the DDS will be applied. \n",
    "* `gate_time` - the delay (in seconds) introduced by each of the `identity` gates.\n",
    "* (optional) `add_measurement` - to add a measurement.\n",
    "\n",
    "In this example, we will use $1$st qubit and specify the `gate_time` to be $50$ $n$s (see same [specification](http://docs.rigetti.com/en/stable/apidocs/autogen/pyquil.noise.add_decoherence_noise.html#pyquil.noise.add_decoherence_noise))."
   ]
  },
  {
   "cell_type": "code",
   "execution_count": 3,
   "metadata": {},
   "outputs": [],
   "source": [
    "## Prepare the pyQuil related parameters\n",
    "\"\"\"\n",
    "target_qubits : list\n",
    "    A list of integers specifying the target qubits within the set of qubit registers\n",
    "\"\"\"\n",
    "target_qubits = [1]\n",
    "\n",
    "\"\"\"\n",
    "gate_time : float\n",
    "    Time delay (in seconds) introduced by identity gate\n",
    "\"\"\"\n",
    "gate_time = 50e-9\n",
    "\n",
    "\"\"\"\n",
    "add_measurement : bool\n",
    "    Indicates if the program requires a measurement step.\n",
    "\"\"\"\n",
    "add_measurement = True\n",
    "\n",
    "## convert the quadratic sequence to program\n",
    "quadratic_program = convert_dds_to_pyquil_program(\n",
    "    dynamic_decoupling_sequence=quadratic_sequence,\n",
    "    target_qubits=target_qubits,\n",
    "    gate_time=gate_time,\n",
    "    add_measurement=add_measurement,\n",
    ")\n",
    "## convert the ramsey sequence to program\n",
    "ramsey_program = convert_dds_to_pyquil_program(\n",
    "    dynamic_decoupling_sequence=ramsey_sequence,\n",
    "    target_qubits=target_qubits,\n",
    "    gate_time=gate_time,\n",
    "    add_measurement=add_measurement,\n",
    ")"
   ]
  },
  {
   "cell_type": "markdown",
   "metadata": {},
   "source": [
    "### Plotting the DDS\n",
    "\n",
    "We can use the Q-CTRL Python Visualizer package to plot the DDS for comparison against their pyQuil program approximations."
   ]
  },
  {
   "cell_type": "markdown",
   "metadata": {},
   "source": [
    "#### Plotting the Quadratic Sequence"
   ]
  },
  {
   "cell_type": "code",
   "execution_count": 4,
   "metadata": {},
   "outputs": [
    {
     "data": {
      "image/png": "[encoded data removed]",
      "text/plain": [
       "<Figure size 648x432 with 3 Axes>"
      ]
     },
     "metadata": {
      "needs_background": "light"
     },
     "output_type": "display_data"
    }
   ],
   "source": [
    "formatted_plot_data = quadratic_sequence.export()\n",
    "figure = plt.figure()\n",
    "plt.suptitle(\"Quadratic Sequence\")\n",
    "plot_sequences(figure, formatted_plot_data)"
   ]
  },
  {
   "cell_type": "markdown",
   "metadata": {},
   "source": [
    "#### Plotting the Ramsey sequence"
   ]
  },
  {
   "cell_type": "code",
   "execution_count": 5,
   "metadata": {},
   "outputs": [
    {
     "data": {
      "image/png": "[encoded data removed]",
      "text/plain": [
       "<Figure size 648x432 with 3 Axes>"
      ]
     },
     "metadata": {
      "needs_background": "light"
     },
     "output_type": "display_data"
    }
   ],
   "source": [
    "formatted_plot_data = ramsey_sequence.export()\n",
    "figure = plt.figure()\n",
    "plt.suptitle(\"Ramsey Sequence\")\n",
    "plot_sequences(figure, formatted_plot_data)"
   ]
  },
  {
   "cell_type": "markdown",
   "metadata": {},
   "source": [
    "#### Printing the Quadratic DDS Program\n",
    "\n",
    "The Quadratic DDS has $X_{\\pi/2}$ rotations at beginning and end to create and remove the superposition state that is preserved by the DDS. The $X_{\\pi/2}$ rotations are added to the programs in the form of pre-post-gates that are implemented via pyQuil's $RX(\\pi/2)$ gate.\n",
    "\n",
    "The $RZ(\\pi)$ gates are $Z_\\pi$ pulses (a $\\pi$ rotation around $Z$-axis) and $RX(\\pi)$ correspond to $X_{\\pi}$ pulses (a $\\pi$ rotation around $X$-axis).\n",
    "\n",
    "The `I` in the program corresponds to the `identity` gates. In the DDS, the first $Z_{\\pi}$-pulse is applied at a delay of $0.3125$ $\\mu$s. This is approximated by introducing 6-`Id` gates with a delay of $50ns\\times 6=0.3$ $\\mu s$. Similarly, the second set of 12-`Id` gates introduces a delay of $0.6$ $\\mu s$ close to the actual delay of $0.9375-0.3125=0.625\\mu s$.\n",
    "\n",
    "The `Pragma` preserve blocks are added at the start and end of the program so that the compiler preserves the entire program. \n",
    "\n",
    "At the end of each program, we place a `MEASURE` operator to read out the result."
   ]
  },
  {
   "cell_type": "code",
   "execution_count": 6,
   "metadata": {},
   "outputs": [
    {
     "name": "stdout",
     "output_type": "stream",
     "text": [
      "PRAGMA PRESERVE_BLOCK\n",
      "RX(pi/2) 1\n",
      "I 1\n",
      "I 1\n",
      "I 1\n",
      "I 1\n",
      "I 1\n",
      "I 1\n",
      "RZ(pi) 1\n",
      "I 1\n",
      "I 1\n",
      "I 1\n",
      "I 1\n",
      "I 1\n",
      "I 1\n",
      "I 1\n",
      "I 1\n",
      "I 1\n",
      "I 1\n",
      "I 1\n",
      "I 1\n",
      "RZ(pi) 1\n",
      "I 1\n",
      "I 1\n",
      "I 1\n",
      "I 1\n",
      "I 1\n",
      "I 1\n",
      "RX(pi) 1\n",
      "I 1\n",
      "I 1\n",
      "I 1\n",
      "I 1\n",
      "I 1\n",
      "I 1\n",
      "I 1\n",
      "I 1\n",
      "I 1\n",
      "I 1\n",
      "I 1\n",
      "I 1\n",
      "RZ(pi) 1\n",
      "I 1\n",
      "I 1\n",
      "I 1\n",
      "I 1\n",
      "I 1\n",
      "I 1\n",
      "I 1\n",
      "I 1\n",
      "I 1\n",
      "I 1\n",
      "I 1\n",
      "I 1\n",
      "I 1\n",
      "I 1\n",
      "I 1\n",
      "I 1\n",
      "I 1\n",
      "I 1\n",
      "I 1\n",
      "I 1\n",
      "I 1\n",
      "I 1\n",
      "I 1\n",
      "I 1\n",
      "I 1\n",
      "RZ(pi) 1\n",
      "I 1\n",
      "I 1\n",
      "I 1\n",
      "I 1\n",
      "I 1\n",
      "I 1\n",
      "I 1\n",
      "I 1\n",
      "I 1\n",
      "I 1\n",
      "I 1\n",
      "I 1\n",
      "RX(pi) 1\n",
      "I 1\n",
      "I 1\n",
      "I 1\n",
      "I 1\n",
      "I 1\n",
      "I 1\n",
      "RZ(pi) 1\n",
      "I 1\n",
      "I 1\n",
      "I 1\n",
      "I 1\n",
      "I 1\n",
      "I 1\n",
      "I 1\n",
      "I 1\n",
      "I 1\n",
      "I 1\n",
      "I 1\n",
      "I 1\n",
      "RZ(pi) 1\n",
      "I 1\n",
      "I 1\n",
      "I 1\n",
      "I 1\n",
      "I 1\n",
      "I 1\n",
      "RX(-pi/2) 1\n",
      "DECLARE ro BIT[1]\n",
      "MEASURE 1 ro[0]\n",
      "PRAGMA END_PRESERVE_BLOCK\n",
      "\n"
     ]
    }
   ],
   "source": [
    "print(quadratic_program.out())"
   ]
  },
  {
   "cell_type": "markdown",
   "metadata": {},
   "source": [
    "#### Printing the Ramsey DDS Program\n",
    "\n",
    "The Ramsey program has has 99 `I` gates corresponding to the interval $99\\times 50ns=4.95\\mu$s interval (close to the desired $5\\mu$s) between the $X_{\\pi/2}$ intervals."
   ]
  },
  {
   "cell_type": "code",
   "execution_count": 7,
   "metadata": {},
   "outputs": [
    {
     "name": "stdout",
     "output_type": "stream",
     "text": [
      "PRAGMA PRESERVE_BLOCK\n",
      "RX(pi/2) 1\n",
      "I 1\n",
      "I 1\n",
      "I 1\n",
      "I 1\n",
      "I 1\n",
      "I 1\n",
      "I 1\n",
      "I 1\n",
      "I 1\n",
      "I 1\n",
      "I 1\n",
      "I 1\n",
      "I 1\n",
      "I 1\n",
      "I 1\n",
      "I 1\n",
      "I 1\n",
      "I 1\n",
      "I 1\n",
      "I 1\n",
      "I 1\n",
      "I 1\n",
      "I 1\n",
      "I 1\n",
      "I 1\n",
      "I 1\n",
      "I 1\n",
      "I 1\n",
      "I 1\n",
      "I 1\n",
      "I 1\n",
      "I 1\n",
      "I 1\n",
      "I 1\n",
      "I 1\n",
      "I 1\n",
      "I 1\n",
      "I 1\n",
      "I 1\n",
      "I 1\n",
      "I 1\n",
      "I 1\n",
      "I 1\n",
      "I 1\n",
      "I 1\n",
      "I 1\n",
      "I 1\n",
      "I 1\n",
      "I 1\n",
      "I 1\n",
      "I 1\n",
      "I 1\n",
      "I 1\n",
      "I 1\n",
      "I 1\n",
      "I 1\n",
      "I 1\n",
      "I 1\n",
      "I 1\n",
      "I 1\n",
      "I 1\n",
      "I 1\n",
      "I 1\n",
      "I 1\n",
      "I 1\n",
      "I 1\n",
      "I 1\n",
      "I 1\n",
      "I 1\n",
      "I 1\n",
      "I 1\n",
      "I 1\n",
      "I 1\n",
      "I 1\n",
      "I 1\n",
      "I 1\n",
      "I 1\n",
      "I 1\n",
      "I 1\n",
      "I 1\n",
      "I 1\n",
      "I 1\n",
      "I 1\n",
      "I 1\n",
      "I 1\n",
      "I 1\n",
      "I 1\n",
      "I 1\n",
      "I 1\n",
      "I 1\n",
      "I 1\n",
      "I 1\n",
      "I 1\n",
      "I 1\n",
      "I 1\n",
      "I 1\n",
      "I 1\n",
      "I 1\n",
      "I 1\n",
      "RX(-pi/2) 1\n",
      "DECLARE ro BIT[1]\n",
      "MEASURE 1 ro[0]\n",
      "PRAGMA END_PRESERVE_BLOCK\n",
      "\n"
     ]
    }
   ],
   "source": [
    "print(ramsey_program.out())"
   ]
  },
  {
   "cell_type": "markdown",
   "metadata": {},
   "source": [
    "### Compiling and running the pograms on Virtual Quantum Device\n",
    "\n",
    "We can use `pyQuil` to compile the programs generated by Q-CTRL Open Controls. \n",
    "\n",
    "To execute the program you will need ForestSDK. Start the the Quil Compiler and QVM in server mode, using the following commands in a terminal.\n",
    "\n",
    "```\n",
    "$ quilc -S\n",
    "$ qvm -S\n",
    "```"
   ]
  },
  {
   "cell_type": "code",
   "execution_count": 9,
   "metadata": {},
   "outputs": [],
   "source": [
    "# NBVAL_SKIP\n",
    "quantum_device = get_qc(\"Aspen-4-2Q-A\", as_qvm=True)"
   ]
  },
  {
   "cell_type": "markdown",
   "metadata": {},
   "source": [
    "#### Compiling the Quadratic DDS Program"
   ]
  },
  {
   "cell_type": "code",
   "execution_count": 10,
   "metadata": {},
   "outputs": [],
   "source": [
    "# NBVAL_SKIP\n",
    "\n",
    "# We loop the program in order to run it several times\n",
    "\"\"\"\n",
    "trials : int\n",
    "    An integer denoting the number of repeats of the program on quantum device\n",
    "\"\"\"\n",
    "trials = 1000\n",
    "quadratic_program = quadratic_program.wrap_in_numshots_loop(trials)\n",
    "\n",
    "##Compiling the quadratic program\n",
    "executable_quadratic_program_for_qvm = quantum_device.compile(quadratic_program)"
   ]
  },
  {
   "cell_type": "code",
   "execution_count": 11,
   "metadata": {},
   "outputs": [],
   "source": [
    "# NBVAL_SKIP\n",
    "\n",
    "# We loop the program in order to run it several times\n",
    "\"\"\"\n",
    "trials : int\n",
    "    An integer denoting the number of repeats of the program on quantum device\n",
    "\"\"\"\n",
    "trials = 1000\n",
    "ramsey_program = ramsey_program.wrap_in_numshots_loop(trials)\n",
    "\n",
    "##Compiling the quadratic program\n",
    "executable_ramsey_program_for_qvm = quantum_device.compile(ramsey_program)"
   ]
  },
  {
   "cell_type": "markdown",
   "metadata": {},
   "source": [
    "### Run the programs using pyQuil's QVM\n",
    "\n",
    "We can use the quantum device we created earlier to run the program. The experiment consists of a number of `trials`, which repeats the `Program`. Each run measures the state of the qubit as a measurement. The result is displayed as a histogram."
   ]
  },
  {
   "cell_type": "code",
   "execution_count": 12,
   "metadata": {},
   "outputs": [],
   "source": [
    "def plot_trial_outcomes(trial_result):\n",
    "    \"\"\"Plots the trial result as probabilities. Expects results from runs involving only\n",
    "    single qubit\n",
    "    Parameters\n",
    "    ----------\n",
    "    trial_result : numpy.ndarray\n",
    "        An array where each row contains the output trials in computational basis.\n",
    "    \"\"\"\n",
    "\n",
    "    qubit_trial_result = trial_result[:, 0]\n",
    "\n",
    "    number_of_trials = qubit_trial_result.shape\n",
    "\n",
    "    outcome = np.array(\n",
    "        [number_of_trials - np.sum(qubit_trial_result), np.sum(qubit_trial_result)]\n",
    "    )\n",
    "    outcome_probabilities = outcome / number_of_trials\n",
    "\n",
    "    plt.bar(np.array([0, 1]), outcome_probabilities)\n",
    "    plt.xticks(np.array([0, 1]), [0, 1])\n",
    "    plt.ylabel(\"Probabilities\")\n",
    "    plt.xlabel(\"States\")"
   ]
  },
  {
   "cell_type": "code",
   "execution_count": 13,
   "metadata": {},
   "outputs": [
    {
     "data": {
      "image/png": "[encoded data removed]",
      "text/plain": [
       "<Figure size 432x288 with 1 Axes>"
      ]
     },
     "metadata": {
      "needs_background": "light"
     },
     "output_type": "display_data"
    }
   ],
   "source": [
    "# NBVAL_SKIP\n",
    "quadratic_result = quantum_device.run(executable_quadratic_program_for_qvm)\n",
    "plot_trial_outcomes(quadratic_result)"
   ]
  },
  {
   "cell_type": "code",
   "execution_count": 14,
   "metadata": {},
   "outputs": [
    {
     "data": {
      "image/png": "[encoded data removed]",
      "text/plain": [
       "<Figure size 432x288 with 1 Axes>"
      ]
     },
     "metadata": {
      "needs_background": "light"
     },
     "output_type": "display_data"
    }
   ],
   "source": [
    "# NBVAL_SKIP\n",
    "\n",
    "## Run the ramsey sequence program, Get the result (counts of state |1> and |0>), plot the histogram\n",
    "ramsey_result = quantum_device.run(executable_ramsey_program_for_qvm)\n",
    "plot_trial_outcomes(ramsey_result)"
   ]
  },
  {
   "cell_type": "markdown",
   "metadata": {},
   "source": [
    "### Compiling and running the pograms on Rigetti Quantum Device\n",
    "\n",
    "If you have an account on [Rigetti QCS](https://qcs.rigetti.com/sign-in) you can run the programs on a real quantum computer. First you need to [reserve a lattice](https://www.rigetti.com/qcs/docs/reservations) and learn how to [run a jupyter notebook](https://www.rigetti.com/qcs/docs/guides#setting-up-a-jupyter-notebook-on-your-qmi). Then the following commands can be used to execute a DDS."
   ]
  },
  {
   "cell_type": "code",
   "execution_count": 15,
   "metadata": {},
   "outputs": [],
   "source": [
    "# NBVAL_SKIP\n",
    "\n",
    "# Get the reserved lattice. In this case we are using 'Aspen-4-2Q-A' - change this to\n",
    "# the one you reserve\n",
    "quantum_device = get_qc(\"Aspen-4-2Q-A\", as_qvm=False)"
   ]
  },
  {
   "cell_type": "code",
   "execution_count": 16,
   "metadata": {},
   "outputs": [
    {
     "data": {
      "image/png": "[encoded data removed]",
      "text/plain": [
       "<Figure size 432x288 with 1 Axes>"
      ]
     },
     "metadata": {
      "needs_background": "light"
     },
     "output_type": "display_data"
    }
   ],
   "source": [
    "# NBVAL_SKIP\n",
    "\n",
    "## Compiling the quadratic program for the chosen real lattice\n",
    "executable_quadratic_program_for_lattice = quantum_device.compile(quadratic_program)\n",
    "\n",
    "## Run the quadratic sequence program, Get the result (counts of state |1> and |0>), plot the histogram\n",
    "quadratic_result = quantum_device.run(executable_quadratic_program_for_lattice)\n",
    "plot_trial_outcomes(quadratic_result)"
   ]
  },
  {
   "cell_type": "code",
   "execution_count": 17,
   "metadata": {},
   "outputs": [
    {
     "data": {
      "image/png": "[encoded data removed]",
      "text/plain": [
       "<Figure size 432x288 with 1 Axes>"
      ]
     },
     "metadata": {
      "needs_background": "light"
     },
     "output_type": "display_data"
    }
   ],
   "source": [
    "# NBVAL_SKIP\n",
    "\n",
    "## Compiling the ramsey program for the chosen real lattice\n",
    "executable_ramsey_program_for_lattice = quantum_device.compile(ramsey_program)\n",
    "\n",
    "## Run the ramsey sequence program, Get the result (counts of state |1> and |0>), plot the histogram\n",
    "ramsey_result = quantum_device.run(executable_ramsey_program_for_lattice)\n",
    "plot_trial_outcomes(ramsey_result)"
   ]
  },
  {
   "cell_type": "markdown",
   "metadata": {},
   "source": [
    "## Reducing errors by increasing the coherence time\n",
    "\n",
    "In the ideal noiseless simulator, both the Ramsey DDS and Quadratic DDS produced exactly the same outcome, the $|1 \\rangle$ state with probability 1. However, in a real device, we can see a marked difference. The Quadratic DDS produced a probability distribution closer to the expected outcome. This is because the Quadratic DDS is able to cancel the effects of magnetic noise in the environment - extending the [T2 time](https://en.wikipedia.org/wiki/Spin–spin_relaxation), and effectively increasing the coherence of the qubit."
   ]
  }
 ],
 "metadata": {
  "kernelspec": {
   "display_name": "Python 3",
   "language": "python",
   "name": "python3"
  },
  "language_info": {
   "codemirror_mode": {
    "name": "ipython",
    "version": 3
   },
   "file_extension": ".py",
   "mimetype": "text/x-python",
   "name": "python",
   "nbconvert_exporter": "python",
   "pygments_lexer": "ipython3",
   "version": "3.7.10"
  },
  "toc": {
   "base_numbering": 1,
   "nav_menu": {},
   "number_sections": true,
   "sideBar": true,
   "skip_h1_title": true,
   "title_cell": "Table of Contents",
   "title_sidebar": "Contents",
   "toc_cell": false,
   "toc_position": {},
   "toc_section_display": true,
   "toc_window_display": false
  }
 },
 "nbformat": 4,
 "nbformat_minor": 2
}
